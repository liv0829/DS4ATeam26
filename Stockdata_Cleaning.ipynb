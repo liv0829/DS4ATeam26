{
 "cells": [
  {
   "cell_type": "code",
   "execution_count": 1,
   "metadata": {},
   "outputs": [],
   "source": [
    "import os\n",
    "import numpy as np\n",
    "import pandas as pd\n",
    "from datetime import datetime as dt"
   ]
  },
  {
   "cell_type": "code",
   "execution_count": 3,
   "metadata": {},
   "outputs": [],
   "source": [
    "directory = os.getcwd()"
   ]
  },
  {
   "cell_type": "code",
   "execution_count": 10,
   "metadata": {},
   "outputs": [],
   "source": [
    "stocks = pd.read_csv(\"/mnt/c/Users/liv08/Desktop/DS4A/robintrack-popularity-history.tar/robintrack-popularity-history/tmp/stocks.csv\", header = None)"
   ]
  },
  {
   "cell_type": "code",
   "execution_count": 26,
   "metadata": {},
   "outputs": [],
   "source": [
    "opening = pd.DataFrame({'date': pd.date_range(start = '2018-05-02', end = '2020-08-13')})\n",
    "closing = pd.DataFrame({'date': pd.date_range(start = '2018-05-02', end = '2020-08-13')})\n",
    "for filename in os.listdir(directory):\n",
    "    if filename.endswith(\".csv\"):\n",
    "        if filename[:-4] in list(stocks[0]):\n",
    "            data = pd.read_csv(filename)\n",
    "            data[filename[:-4]] = data[\"Open\"]\n",
    "            data.index = pd.to_datetime(data[\"Date\"])\n",
    "            opening = pd.merge(left = opening, right = data[filename[:-4]], how = \"left\", left_on = 'date', right_on = 'Date')\n",
    "            data[filename[:-4]] = data[\"Close\"]\n",
    "            closing = pd.merge(left = closing, right = data[filename[:-4]], how = \"left\", left_on = 'date', right_on = 'Date')"
   ]
  },
  {
   "cell_type": "code",
   "execution_count": 31,
   "metadata": {},
   "outputs": [],
   "source": [
    "pd.DataFrame(opening).to_csv(r'/mnt/c/Users/liv08/Desktop/DS4A/stock_price_data/opening_price.csv')\n",
    "pd.DataFrame(opening).to_csv(r'/mnt/c/Users/liv08/Desktop/DS4A/stock_price_data/closing_price.csv')"
   ]
  },
  {
   "cell_type": "code",
   "execution_count": null,
   "metadata": {},
   "outputs": [],
   "source": []
  }
 ],
 "metadata": {
  "kernelspec": {
   "display_name": "Python 3",
   "language": "python",
   "name": "python3"
  },
  "language_info": {
   "codemirror_mode": {
    "name": "ipython",
    "version": 3
   },
   "file_extension": ".py",
   "mimetype": "text/x-python",
   "name": "python",
   "nbconvert_exporter": "python",
   "pygments_lexer": "ipython3",
   "version": "3.6.9"
  }
 },
 "nbformat": 4,
 "nbformat_minor": 2
}
